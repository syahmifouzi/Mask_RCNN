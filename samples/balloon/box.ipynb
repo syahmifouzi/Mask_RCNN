{
 "cells": [
  {
   "cell_type": "code",
   "execution_count": 1,
   "metadata": {},
   "outputs": [
    {
     "name": "stdout",
     "output_type": "stream",
     "text": [
      "Collecting scipy\n",
      "\u001b[?25l  Downloading https://files.pythonhosted.org/packages/c1/60/8cbf00c0deb50a971e6e3a015fb32513960a92867df979870a454481817c/scipy-1.4.1-cp35-cp35m-manylinux1_x86_64.whl (26.0MB)\n",
      "\u001b[K     |################################| 26.0MB 9.9MB/s eta 0:00:01\n",
      "\u001b[?25hRequirement already satisfied: numpy>=1.13.3 in /usr/local/lib/python3.5/dist-packages (from scipy) (1.16.4)\n",
      "Installing collected packages: scipy\n",
      "Successfully installed scipy-1.4.1\n",
      "\u001b[33mWARNING: You are using pip version 19.1.1, however version 20.1 is available.\n",
      "You should consider upgrading via the 'pip install --upgrade pip' command.\u001b[0m\n"
     ]
    }
   ],
   "source": [
    "!pip3 install scipy"
   ]
  },
  {
   "cell_type": "code",
   "execution_count": 2,
   "metadata": {},
   "outputs": [
    {
     "name": "stdout",
     "output_type": "stream",
     "text": [
      "Collecting scikit-image\n",
      "\u001b[?25l  Downloading https://files.pythonhosted.org/packages/00/ba/9688afba6ab3714875a8d22284ce0362086e47f3cda60243e5d4de5e5943/scikit_image-0.15.0-cp35-cp35m-manylinux1_x86_64.whl (26.2MB)\n",
      "\u001b[K     |################################| 26.2MB 17.4MB/s eta 0:00:01   |##########                      | 8.9MB 3.0MB/s eta 0:00:06\n",
      "\u001b[?25hCollecting matplotlib!=3.0.0,>=2.0.0 (from scikit-image)\n",
      "\u001b[?25l  Downloading https://files.pythonhosted.org/packages/89/61/465fb3bfba684b0f53b5c4829c3c89e86e6fe9fdcdfda93e38f1788090f0/matplotlib-3.0.3-cp35-cp35m-manylinux1_x86_64.whl (13.0MB)\n",
      "\u001b[K     |################################| 13.0MB 16.4MB/s eta 0:00:01\n",
      "\u001b[?25hRequirement already satisfied: scipy>=0.17.0 in /usr/local/lib/python3.5/dist-packages (from scikit-image) (1.4.1)\n",
      "Collecting pillow>=4.3.0 (from scikit-image)\n",
      "\u001b[?25l  Downloading https://files.pythonhosted.org/packages/89/15/25ba3ee5ceb5d4b16cd4727b4ecf3788f4d106d56a262d81b23ca6b073d1/Pillow-7.1.2-cp35-cp35m-manylinux1_x86_64.whl (2.1MB)\n",
      "\u001b[K     |################################| 2.1MB 30.4MB/s eta 0:00:01\n",
      "\u001b[?25hCollecting PyWavelets>=0.4.0 (from scikit-image)\n",
      "\u001b[?25l  Downloading https://files.pythonhosted.org/packages/7f/25/b2a6099c528fee4a132e1070033191dbaacded2ebe48804ec31b4c9aac13/PyWavelets-1.1.1-cp35-cp35m-manylinux1_x86_64.whl (4.4MB)\n",
      "\u001b[K     |################################| 4.4MB 31.1MB/s eta 0:00:01\n",
      "\u001b[?25hCollecting networkx>=2.0 (from scikit-image)\n",
      "\u001b[?25l  Downloading https://files.pythonhosted.org/packages/41/8f/dd6a8e85946def36e4f2c69c84219af0fa5e832b018c970e92f2ad337e45/networkx-2.4-py3-none-any.whl (1.6MB)\n",
      "\u001b[K     |################################| 1.6MB 36.2MB/s eta 0:00:01\n",
      "\u001b[?25hCollecting imageio>=2.0.1 (from scikit-image)\n",
      "\u001b[?25l  Downloading https://files.pythonhosted.org/packages/4c/2b/9dd19644f871b10f7e32eb2dbd6b45149c350b4d5f2893e091b882e03ab7/imageio-2.8.0-py3-none-any.whl (3.3MB)\n",
      "\u001b[K     |################################| 3.3MB 38.4MB/s eta 0:00:01\n",
      "\u001b[?25hRequirement already satisfied: python-dateutil>=2.1 in /usr/local/lib/python3.5/dist-packages (from matplotlib!=3.0.0,>=2.0.0->scikit-image) (2.8.0)\n",
      "Requirement already satisfied: numpy>=1.10.0 in /usr/local/lib/python3.5/dist-packages (from matplotlib!=3.0.0,>=2.0.0->scikit-image) (1.16.4)\n",
      "Collecting kiwisolver>=1.0.1 (from matplotlib!=3.0.0,>=2.0.0->scikit-image)\n",
      "\u001b[?25l  Downloading https://files.pythonhosted.org/packages/ee/18/4cd2e84c6aff0c6a50479118083d20b9e676e5175a913c0ea76d700fc244/kiwisolver-1.1.0-cp35-cp35m-manylinux1_x86_64.whl (90kB)\n",
      "\u001b[K     |################################| 92kB 27.3MB/s eta 0:00:01\n",
      "\u001b[?25hCollecting pyparsing!=2.0.4,!=2.1.2,!=2.1.6,>=2.0.1 (from matplotlib!=3.0.0,>=2.0.0->scikit-image)\n",
      "\u001b[?25l  Downloading https://files.pythonhosted.org/packages/8a/bb/488841f56197b13700afd5658fc279a2025a39e22449b7cf29864669b15d/pyparsing-2.4.7-py2.py3-none-any.whl (67kB)\n",
      "\u001b[K     |################################| 71kB 28.0MB/s eta 0:00:01\n",
      "\u001b[?25hCollecting cycler>=0.10 (from matplotlib!=3.0.0,>=2.0.0->scikit-image)\n",
      "  Downloading https://files.pythonhosted.org/packages/f7/d2/e07d3ebb2bd7af696440ce7e754c59dd546ffe1bbe732c8ab68b9c834e61/cycler-0.10.0-py2.py3-none-any.whl\n",
      "Requirement already satisfied: decorator>=4.3.0 in /usr/local/lib/python3.5/dist-packages (from networkx>=2.0->scikit-image) (4.4.0)\n",
      "Requirement already satisfied: six>=1.5 in /usr/local/lib/python3.5/dist-packages (from python-dateutil>=2.1->matplotlib!=3.0.0,>=2.0.0->scikit-image) (1.12.0)\n",
      "Requirement already satisfied: setuptools in /usr/local/lib/python3.5/dist-packages (from kiwisolver>=1.0.1->matplotlib!=3.0.0,>=2.0.0->scikit-image) (41.0.1)\n",
      "Installing collected packages: kiwisolver, pyparsing, cycler, matplotlib, pillow, PyWavelets, networkx, imageio, scikit-image\n",
      "Successfully installed PyWavelets-1.1.1 cycler-0.10.0 imageio-2.8.0 kiwisolver-1.1.0 matplotlib-3.0.3 networkx-2.4 pillow-7.1.2 pyparsing-2.4.7 scikit-image-0.15.0\n",
      "\u001b[33mWARNING: You are using pip version 19.1.1, however version 20.1 is available.\n",
      "You should consider upgrading via the 'pip install --upgrade pip' command.\u001b[0m\n"
     ]
    }
   ],
   "source": [
    "!pip3 install scikit-image"
   ]
  },
  {
   "cell_type": "code",
   "execution_count": 4,
   "metadata": {},
   "outputs": [
    {
     "name": "stdout",
     "output_type": "stream",
     "text": [
      "Collecting Keras==2.2.5\n",
      "\u001b[?25l  Downloading https://files.pythonhosted.org/packages/f8/ba/2d058dcf1b85b9c212cc58264c98a4a7dd92c989b798823cc5690d062bb2/Keras-2.2.5-py2.py3-none-any.whl (336kB)\n",
      "\u001b[K     |################################| 337kB 3.1MB/s eta 0:00:01\n",
      "\u001b[?25hRequirement already satisfied: numpy>=1.9.1 in /usr/local/lib/python3.5/dist-packages (from Keras==2.2.5) (1.16.4)\n",
      "Requirement already satisfied: six>=1.9.0 in /usr/local/lib/python3.5/dist-packages (from Keras==2.2.5) (1.12.0)\n",
      "Requirement already satisfied: scipy>=0.14 in /usr/local/lib/python3.5/dist-packages (from Keras==2.2.5) (1.4.1)\n",
      "Requirement already satisfied: keras-applications>=1.0.8 in /usr/local/lib/python3.5/dist-packages (from Keras==2.2.5) (1.0.8)\n",
      "Requirement already satisfied: pyyaml in /usr/local/lib/python3.5/dist-packages (from Keras==2.2.5) (5.3.1)\n",
      "Requirement already satisfied: keras-preprocessing>=1.1.0 in /usr/local/lib/python3.5/dist-packages (from Keras==2.2.5) (1.1.0)\n",
      "Requirement already satisfied: h5py in /usr/local/lib/python3.5/dist-packages (from Keras==2.2.5) (2.9.0)\n",
      "Installing collected packages: Keras\n",
      "  Found existing installation: Keras 2.3.1\n",
      "    Uninstalling Keras-2.3.1:\n",
      "      Successfully uninstalled Keras-2.3.1\n",
      "Successfully installed Keras-2.2.5\n",
      "\u001b[33mWARNING: You are using pip version 19.1.1, however version 20.1 is available.\n",
      "You should consider upgrading via the 'pip install --upgrade pip' command.\u001b[0m\n"
     ]
    }
   ],
   "source": [
    "!pip3 install Keras==2.2.5"
   ]
  },
  {
   "cell_type": "markdown",
   "metadata": {},
   "source": [
    "\"\"\"\n",
    "Mask R-CNN\n",
    "Train on the toy Balloon dataset and implement color splash effect.\n",
    "\n",
    "Copyright (c) 2018 Matterport, Inc.\n",
    "Licensed under the MIT License (see LICENSE for details)\n",
    "Written by Waleed Abdulla\n",
    "\n",
    "------------------------------------------------------------\n",
    "\n",
    "Usage: import the module (see Jupyter notebooks for examples), or run from\n",
    "       the command line as such:\n",
    "\n",
    "    # Train a new model starting from pre-trained COCO weights\n",
    "    python3 balloon.py train --dataset=/path/to/balloon/dataset --weights=coco\n",
    "\n",
    "    # Resume training a model that you had trained earlier\n",
    "    python3 balloon.py train --dataset=/path/to/balloon/dataset --weights=last\n",
    "\n",
    "    # Train a new model starting from ImageNet weights\n",
    "    python3 balloon.py train --dataset=/path/to/balloon/dataset --weights=imagenet\n",
    "\n",
    "    # Apply color splash to an image\n",
    "    python3 balloon.py splash --weights=/path/to/weights/file.h5 --image=<URL or path to file>\n",
    "\n",
    "    # Apply color splash to video using the last weights you trained\n",
    "    python3 balloon.py splash --weights=last --video=<URL or path to file>\n",
    "\"\"\""
   ]
  },
  {
   "cell_type": "code",
   "execution_count": 1,
   "metadata": {},
   "outputs": [],
   "source": [
    "import os\n",
    "import sys"
   ]
  },
  {
   "cell_type": "code",
   "execution_count": 2,
   "metadata": {},
   "outputs": [
    {
     "name": "stderr",
     "output_type": "stream",
     "text": [
      "Using TensorFlow backend.\n"
     ]
    }
   ],
   "source": [
    "# Root directory of the project\n",
    "ROOT_DIR = os.path.abspath(\"../../\")\n",
    "\n",
    "# Import Mask RCNN\n",
    "sys.path.append(ROOT_DIR)  # To find local version of the library\n",
    "from mrcnn import utils\n",
    "from mrcnn import visualize\n",
    "from mrcnn.visualize import display_images\n",
    "import mrcnn.model as modellib\n",
    "from mrcnn.model import log\n",
    "\n",
    "from samples.balloon import balloon"
   ]
  },
  {
   "cell_type": "code",
   "execution_count": 3,
   "metadata": {},
   "outputs": [
    {
     "data": {
      "text/plain": [
       "'1.13.1'"
      ]
     },
     "execution_count": 3,
     "metadata": {},
     "output_type": "execute_result"
    }
   ],
   "source": [
    "import tensorflow\n",
    "\n",
    "tensorflow.__version__"
   ]
  },
  {
   "cell_type": "code",
   "execution_count": 4,
   "metadata": {},
   "outputs": [
    {
     "data": {
      "text/plain": [
       "'2.2.5'"
      ]
     },
     "execution_count": 4,
     "metadata": {},
     "output_type": "execute_result"
    }
   ],
   "source": [
    "import keras\n",
    "\n",
    "keras.__version__"
   ]
  },
  {
   "cell_type": "markdown",
   "metadata": {},
   "source": [
    "# Configurations\n",
    "\n",
    "Configurations are defined in balloon.py"
   ]
  },
  {
   "cell_type": "code",
   "execution_count": null,
   "metadata": {},
   "outputs": [],
   "source": [
    "# config = balloon.BalloonConfig()\n",
    "# BALLOON_DIR = os.path.join(ROOT_DIR, \"datasets/balloon\")"
   ]
  },
  {
   "cell_type": "markdown",
   "metadata": {},
   "source": [
    "arg = \"train\""
   ]
  },
  {
   "cell_type": "code",
   "execution_count": null,
   "metadata": {},
   "outputs": [
    {
     "name": "stdout",
     "output_type": "stream",
     "text": [
      "Running\n",
      "\n",
      "Configurations:\n",
      "BACKBONE                       resnet101\n",
      "BACKBONE_STRIDES               [4, 8, 16, 32, 64]\n",
      "BATCH_SIZE                     1\n",
      "BBOX_STD_DEV                   [0.1 0.1 0.2 0.2]\n",
      "COMPUTE_BACKBONE_SHAPE         None\n",
      "DETECTION_MAX_INSTANCES        100\n",
      "DETECTION_MIN_CONFIDENCE       0.9\n",
      "DETECTION_NMS_THRESHOLD        0.3\n",
      "FPN_CLASSIF_FC_LAYERS_SIZE     1024\n",
      "GPU_COUNT                      1\n",
      "GRADIENT_CLIP_NORM             5.0\n",
      "IMAGES_PER_GPU                 1\n",
      "IMAGE_CHANNEL_COUNT            3\n",
      "IMAGE_MAX_DIM                  1024\n",
      "IMAGE_META_SIZE                16\n",
      "IMAGE_MIN_DIM                  800\n",
      "IMAGE_MIN_SCALE                0\n",
      "IMAGE_RESIZE_MODE              square\n",
      "IMAGE_SHAPE                    [1024 1024    3]\n",
      "LEARNING_MOMENTUM              0.9\n",
      "LEARNING_RATE                  0.001\n",
      "LOSS_WEIGHTS                   {'mrcnn_mask_loss': 1.0, 'rpn_bbox_loss': 1.0, 'mrcnn_bbox_loss': 1.0, 'rpn_class_loss': 1.0, 'mrcnn_class_loss': 1.0}\n",
      "MASK_POOL_SIZE                 14\n",
      "MASK_SHAPE                     [28, 28]\n",
      "MAX_GT_INSTANCES               100\n",
      "MEAN_PIXEL                     [123.7 116.8 103.9]\n",
      "MINI_MASK_SHAPE                (56, 56)\n",
      "NAME                           balloon\n",
      "NUM_CLASSES                    4\n",
      "POOL_SIZE                      7\n",
      "POST_NMS_ROIS_INFERENCE        1000\n",
      "POST_NMS_ROIS_TRAINING         2000\n",
      "PRE_NMS_LIMIT                  6000\n",
      "ROI_POSITIVE_RATIO             0.33\n",
      "RPN_ANCHOR_RATIOS              [0.5, 1, 2]\n",
      "RPN_ANCHOR_SCALES              (32, 64, 128, 256, 512)\n",
      "RPN_ANCHOR_STRIDE              1\n",
      "RPN_BBOX_STD_DEV               [0.1 0.1 0.2 0.2]\n",
      "RPN_NMS_THRESHOLD              0.7\n",
      "RPN_TRAIN_ANCHORS_PER_IMAGE    256\n",
      "STEPS_PER_EPOCH                100\n",
      "TOP_DOWN_PYRAMID_SIZE          256\n",
      "TRAIN_BN                       False\n",
      "TRAIN_ROIS_PER_IMAGE           200\n",
      "USE_MINI_MASK                  True\n",
      "USE_RPN_ROIS                   True\n",
      "VALIDATION_STEPS               50\n",
      "WEIGHT_DECAY                   0.0001\n",
      "\n",
      "\n",
      "WARNING:tensorflow:From /usr/local/lib/python3.5/dist-packages/tensorflow/python/framework/op_def_library.py:263: colocate_with (from tensorflow.python.framework.ops) is deprecated and will be removed in a future version.\n",
      "Instructions for updating:\n",
      "Colocations handled automatically by placer.\n",
      "Training network heads\n",
      "\n",
      "Starting at epoch 0. LR=0.001\n",
      "\n",
      "Checkpoint Path: /fyp_v2/Mask_RCNN/logs/balloon20200501T0652/mask_rcnn_balloon_{epoch:04d}.h5\n",
      "Selecting layers to train\n",
      "fpn_c5p5               (Conv2D)\n",
      "fpn_c4p4               (Conv2D)\n",
      "fpn_c3p3               (Conv2D)\n",
      "fpn_c2p2               (Conv2D)\n",
      "fpn_p5                 (Conv2D)\n",
      "fpn_p2                 (Conv2D)\n",
      "fpn_p3                 (Conv2D)\n",
      "fpn_p4                 (Conv2D)\n",
      "In model:  rpn_model\n",
      "    rpn_conv_shared        (Conv2D)\n",
      "    rpn_class_raw          (Conv2D)\n",
      "    rpn_bbox_pred          (Conv2D)\n",
      "mrcnn_mask_conv1       (TimeDistributed)\n",
      "mrcnn_mask_bn1         (TimeDistributed)\n",
      "mrcnn_mask_conv2       (TimeDistributed)\n",
      "mrcnn_mask_bn2         (TimeDistributed)\n",
      "mrcnn_class_conv1      (TimeDistributed)\n",
      "mrcnn_class_bn1        (TimeDistributed)\n",
      "mrcnn_mask_conv3       (TimeDistributed)\n",
      "mrcnn_mask_bn3         (TimeDistributed)\n",
      "mrcnn_class_conv2      (TimeDistributed)\n",
      "mrcnn_class_bn2        (TimeDistributed)\n",
      "mrcnn_mask_conv4       (TimeDistributed)\n",
      "mrcnn_mask_bn4         (TimeDistributed)\n",
      "mrcnn_bbox_fc          (TimeDistributed)\n",
      "mrcnn_mask_deconv      (TimeDistributed)\n",
      "mrcnn_class_logits     (TimeDistributed)\n",
      "mrcnn_mask             (TimeDistributed)\n",
      "WARNING:tensorflow:From /usr/local/lib/python3.5/dist-packages/tensorflow/python/ops/math_ops.py:3066: to_int32 (from tensorflow.python.ops.math_ops) is deprecated and will be removed in a future version.\n",
      "Instructions for updating:\n",
      "Use tf.cast instead.\n"
     ]
    },
    {
     "name": "stderr",
     "output_type": "stream",
     "text": [
      "/usr/local/lib/python3.5/dist-packages/tensorflow/python/ops/gradients_impl.py:110: UserWarning: Converting sparse IndexedSlices to a dense Tensor of unknown shape. This may consume a large amount of memory.\n",
      "  \"Converting sparse IndexedSlices to a dense Tensor of unknown shape. \"\n",
      "/usr/local/lib/python3.5/dist-packages/keras/engine/training_generator.py:49: UserWarning: Using a generator with `use_multiprocessing=True` and multiple workers may duplicate your data. Please consider using the `keras.utils.Sequence class.\n",
      "  UserWarning('Using a generator with `use_multiprocessing=True`'\n"
     ]
    },
    {
     "name": "stdout",
     "output_type": "stream",
     "text": [
      "Epoch 1/30\n",
      "100/100 [==============================] - 371s 4s/step - loss: 1.4686 - rpn_class_loss: 0.0306 - rpn_bbox_loss: 0.3362 - mrcnn_class_loss: 0.3040 - mrcnn_bbox_loss: 0.4194 - mrcnn_mask_loss: 0.3784 - val_loss: 2.7509 - val_rpn_class_loss: 0.2543 - val_rpn_bbox_loss: 1.6178 - val_mrcnn_class_loss: 0.3220 - val_mrcnn_bbox_loss: 0.3662 - val_mrcnn_mask_loss: 0.1906\n",
      "Epoch 2/30\n",
      "100/100 [==============================] - 122s 1s/step - loss: 0.8129 - rpn_class_loss: 0.0099 - rpn_bbox_loss: 0.2881 - mrcnn_class_loss: 0.1728 - mrcnn_bbox_loss: 0.2095 - mrcnn_mask_loss: 0.1326 - val_loss: 1.1890 - val_rpn_class_loss: 0.0084 - val_rpn_bbox_loss: 0.4783 - val_mrcnn_class_loss: 0.2251 - val_mrcnn_bbox_loss: 0.2874 - val_mrcnn_mask_loss: 0.1899\n",
      "Epoch 3/30\n",
      "100/100 [==============================] - 121s 1s/step - loss: 1.0840 - rpn_class_loss: 0.0323 - rpn_bbox_loss: 0.5209 - mrcnn_class_loss: 0.1858 - mrcnn_bbox_loss: 0.2323 - mrcnn_mask_loss: 0.1127 - val_loss: 1.6790 - val_rpn_class_loss: 0.0141 - val_rpn_bbox_loss: 0.8604 - val_mrcnn_class_loss: 0.2502 - val_mrcnn_bbox_loss: 0.3288 - val_mrcnn_mask_loss: 0.2255\n",
      "Epoch 4/30\n",
      "100/100 [==============================] - 121s 1s/step - loss: 0.7382 - rpn_class_loss: 0.0097 - rpn_bbox_loss: 0.2695 - mrcnn_class_loss: 0.1905 - mrcnn_bbox_loss: 0.1525 - mrcnn_mask_loss: 0.1159 - val_loss: 1.2140 - val_rpn_class_loss: 0.0086 - val_rpn_bbox_loss: 0.4339 - val_mrcnn_class_loss: 0.2839 - val_mrcnn_bbox_loss: 0.3508 - val_mrcnn_mask_loss: 0.1368\n",
      "Epoch 5/30\n",
      "100/100 [==============================] - 121s 1s/step - loss: 0.9777 - rpn_class_loss: 0.0130 - rpn_bbox_loss: 0.4059 - mrcnn_class_loss: 0.2132 - mrcnn_bbox_loss: 0.2190 - mrcnn_mask_loss: 0.1265 - val_loss: 1.1497 - val_rpn_class_loss: 0.0161 - val_rpn_bbox_loss: 0.3812 - val_mrcnn_class_loss: 0.3022 - val_mrcnn_bbox_loss: 0.3161 - val_mrcnn_mask_loss: 0.1341\n",
      "Epoch 6/30\n",
      "100/100 [==============================] - 130s 1s/step - loss: 1.0446 - rpn_class_loss: 0.0242 - rpn_bbox_loss: 0.4696 - mrcnn_class_loss: 0.1984 - mrcnn_bbox_loss: 0.2128 - mrcnn_mask_loss: 0.1396 - val_loss: 1.0849 - val_rpn_class_loss: 0.0094 - val_rpn_bbox_loss: 0.4878 - val_mrcnn_class_loss: 0.2267 - val_mrcnn_bbox_loss: 0.2459 - val_mrcnn_mask_loss: 0.1150\n",
      "Epoch 7/30\n",
      "100/100 [==============================] - 127s 1s/step - loss: 0.5763 - rpn_class_loss: 0.0236 - rpn_bbox_loss: 0.1775 - mrcnn_class_loss: 0.1751 - mrcnn_bbox_loss: 0.1160 - mrcnn_mask_loss: 0.0842 - val_loss: 0.6582 - val_rpn_class_loss: 0.0109 - val_rpn_bbox_loss: 0.2000 - val_mrcnn_class_loss: 0.1849 - val_mrcnn_bbox_loss: 0.1670 - val_mrcnn_mask_loss: 0.0954\n",
      "Epoch 8/30\n",
      " 94/100 [===========================>..] - ETA: 6s - loss: 0.6592 - rpn_class_loss: 0.0141 - rpn_bbox_loss: 0.3369 - mrcnn_class_loss: 0.1117 - mrcnn_bbox_loss: 0.1154 - mrcnn_mask_loss: 0.0811"
     ]
    }
   ],
   "source": [
    "balloon.run_train_coco()"
   ]
  }
 ],
 "metadata": {
  "kernelspec": {
   "display_name": "Python 3",
   "language": "python",
   "name": "python3"
  },
  "language_info": {
   "codemirror_mode": {
    "name": "ipython",
    "version": 3
   },
   "file_extension": ".py",
   "mimetype": "text/x-python",
   "name": "python",
   "nbconvert_exporter": "python",
   "pygments_lexer": "ipython3",
   "version": "3.5.2"
  }
 },
 "nbformat": 4,
 "nbformat_minor": 4
}
